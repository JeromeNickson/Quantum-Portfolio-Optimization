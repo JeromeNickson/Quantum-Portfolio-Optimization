{
  "nbformat": 4,
  "nbformat_minor": 0,
  "metadata": {
    "colab": {
      "provenance": [],
      "authorship_tag": "ABX9TyN7u5mLXXe/9BDN9mqMpKCn",
      "include_colab_link": true
    },
    "kernelspec": {
      "name": "python3",
      "display_name": "Python 3"
    },
    "language_info": {
      "name": "python"
    }
  },
  "cells": [
    {
      "cell_type": "markdown",
      "metadata": {
        "id": "view-in-github",
        "colab_type": "text"
      },
      "source": [
        "<a href=\"https://colab.research.google.com/github/JeromeNickson/Quantum-Portfolio-Optimization/blob/main/notebooks/quantum.ipynb\" target=\"_parent\"><img src=\"https://colab.research.google.com/assets/colab-badge.svg\" alt=\"Open In Colab\"/></a>"
      ]
    },
    {
      "cell_type": "code",
      "source": [
        "# Install required libraries\n",
        "!pip install yfinance pennylane matplotlib\n",
        "\n",
        "# Import libraries\n",
        "import numpy as np\n",
        "import pandas as pd\n",
        "import yfinance as yf\n",
        "import matplotlib.pyplot as plt\n",
        "import pennylane as qml\n",
        "from pennylane import numpy as pnp\n"
      ],
      "metadata": {
        "colab": {
          "base_uri": "https://localhost:8080/"
        },
        "id": "hmMRRebVejUC",
        "outputId": "23ced30d-e9c5-4d54-921b-4bfdafd3b409"
      },
      "execution_count": 19,
      "outputs": [
        {
          "output_type": "stream",
          "name": "stdout",
          "text": [
            "Requirement already satisfied: yfinance in /usr/local/lib/python3.12/dist-packages (0.2.66)\n",
            "Requirement already satisfied: pennylane in /usr/local/lib/python3.12/dist-packages (0.42.3)\n",
            "Requirement already satisfied: matplotlib in /usr/local/lib/python3.12/dist-packages (3.10.0)\n",
            "Requirement already satisfied: pandas>=1.3.0 in /usr/local/lib/python3.12/dist-packages (from yfinance) (2.2.2)\n",
            "Requirement already satisfied: numpy>=1.16.5 in /usr/local/lib/python3.12/dist-packages (from yfinance) (2.0.2)\n",
            "Requirement already satisfied: requests>=2.31 in /usr/local/lib/python3.12/dist-packages (from yfinance) (2.32.4)\n",
            "Requirement already satisfied: multitasking>=0.0.7 in /usr/local/lib/python3.12/dist-packages (from yfinance) (0.0.12)\n",
            "Requirement already satisfied: platformdirs>=2.0.0 in /usr/local/lib/python3.12/dist-packages (from yfinance) (4.4.0)\n",
            "Requirement already satisfied: pytz>=2022.5 in /usr/local/lib/python3.12/dist-packages (from yfinance) (2025.2)\n",
            "Requirement already satisfied: frozendict>=2.3.4 in /usr/local/lib/python3.12/dist-packages (from yfinance) (2.4.6)\n",
            "Requirement already satisfied: peewee>=3.16.2 in /usr/local/lib/python3.12/dist-packages (from yfinance) (3.18.2)\n",
            "Requirement already satisfied: beautifulsoup4>=4.11.1 in /usr/local/lib/python3.12/dist-packages (from yfinance) (4.13.5)\n",
            "Requirement already satisfied: curl_cffi>=0.7 in /usr/local/lib/python3.12/dist-packages (from yfinance) (0.13.0)\n",
            "Requirement already satisfied: protobuf>=3.19.0 in /usr/local/lib/python3.12/dist-packages (from yfinance) (5.29.5)\n",
            "Requirement already satisfied: websockets>=13.0 in /usr/local/lib/python3.12/dist-packages (from yfinance) (15.0.1)\n",
            "Requirement already satisfied: scipy in /usr/local/lib/python3.12/dist-packages (from pennylane) (1.16.2)\n",
            "Requirement already satisfied: networkx in /usr/local/lib/python3.12/dist-packages (from pennylane) (3.5)\n",
            "Requirement already satisfied: rustworkx>=0.14.0 in /usr/local/lib/python3.12/dist-packages (from pennylane) (0.17.1)\n",
            "Requirement already satisfied: autograd in /usr/local/lib/python3.12/dist-packages (from pennylane) (1.8.0)\n",
            "Requirement already satisfied: appdirs in /usr/local/lib/python3.12/dist-packages (from pennylane) (1.4.4)\n",
            "Requirement already satisfied: autoray<0.8,>=0.6.11 in /usr/local/lib/python3.12/dist-packages (from pennylane) (0.7.2)\n",
            "Requirement already satisfied: cachetools in /usr/local/lib/python3.12/dist-packages (from pennylane) (5.5.2)\n",
            "Requirement already satisfied: pennylane-lightning>=0.42 in /usr/local/lib/python3.12/dist-packages (from pennylane) (0.42.0)\n",
            "Requirement already satisfied: tomlkit in /usr/local/lib/python3.12/dist-packages (from pennylane) (0.13.3)\n",
            "Requirement already satisfied: typing_extensions in /usr/local/lib/python3.12/dist-packages (from pennylane) (4.15.0)\n",
            "Requirement already satisfied: packaging in /usr/local/lib/python3.12/dist-packages (from pennylane) (25.0)\n",
            "Requirement already satisfied: diastatic-malt in /usr/local/lib/python3.12/dist-packages (from pennylane) (2.15.2)\n",
            "Requirement already satisfied: contourpy>=1.0.1 in /usr/local/lib/python3.12/dist-packages (from matplotlib) (1.3.3)\n",
            "Requirement already satisfied: cycler>=0.10 in /usr/local/lib/python3.12/dist-packages (from matplotlib) (0.12.1)\n",
            "Requirement already satisfied: fonttools>=4.22.0 in /usr/local/lib/python3.12/dist-packages (from matplotlib) (4.60.1)\n",
            "Requirement already satisfied: kiwisolver>=1.3.1 in /usr/local/lib/python3.12/dist-packages (from matplotlib) (1.4.9)\n",
            "Requirement already satisfied: pillow>=8 in /usr/local/lib/python3.12/dist-packages (from matplotlib) (11.3.0)\n",
            "Requirement already satisfied: pyparsing>=2.3.1 in /usr/local/lib/python3.12/dist-packages (from matplotlib) (3.2.5)\n",
            "Requirement already satisfied: python-dateutil>=2.7 in /usr/local/lib/python3.12/dist-packages (from matplotlib) (2.9.0.post0)\n",
            "Requirement already satisfied: soupsieve>1.2 in /usr/local/lib/python3.12/dist-packages (from beautifulsoup4>=4.11.1->yfinance) (2.8)\n",
            "Requirement already satisfied: cffi>=1.12.0 in /usr/local/lib/python3.12/dist-packages (from curl_cffi>=0.7->yfinance) (2.0.0)\n",
            "Requirement already satisfied: certifi>=2024.2.2 in /usr/local/lib/python3.12/dist-packages (from curl_cffi>=0.7->yfinance) (2025.8.3)\n",
            "Requirement already satisfied: tzdata>=2022.7 in /usr/local/lib/python3.12/dist-packages (from pandas>=1.3.0->yfinance) (2025.2)\n",
            "Requirement already satisfied: scipy-openblas32>=0.3.26 in /usr/local/lib/python3.12/dist-packages (from pennylane-lightning>=0.42->pennylane) (0.3.30.0.2)\n",
            "Requirement already satisfied: six>=1.5 in /usr/local/lib/python3.12/dist-packages (from python-dateutil>=2.7->matplotlib) (1.17.0)\n",
            "Requirement already satisfied: charset_normalizer<4,>=2 in /usr/local/lib/python3.12/dist-packages (from requests>=2.31->yfinance) (3.4.3)\n",
            "Requirement already satisfied: idna<4,>=2.5 in /usr/local/lib/python3.12/dist-packages (from requests>=2.31->yfinance) (3.10)\n",
            "Requirement already satisfied: urllib3<3,>=1.21.1 in /usr/local/lib/python3.12/dist-packages (from requests>=2.31->yfinance) (2.5.0)\n",
            "Requirement already satisfied: astunparse in /usr/local/lib/python3.12/dist-packages (from diastatic-malt->pennylane) (1.6.3)\n",
            "Requirement already satisfied: gast in /usr/local/lib/python3.12/dist-packages (from diastatic-malt->pennylane) (0.6.0)\n",
            "Requirement already satisfied: termcolor in /usr/local/lib/python3.12/dist-packages (from diastatic-malt->pennylane) (3.1.0)\n",
            "Requirement already satisfied: pycparser in /usr/local/lib/python3.12/dist-packages (from cffi>=1.12.0->curl_cffi>=0.7->yfinance) (2.23)\n",
            "Requirement already satisfied: wheel<1.0,>=0.23.0 in /usr/local/lib/python3.12/dist-packages (from astunparse->diastatic-malt->pennylane) (0.45.1)\n"
          ]
        }
      ]
    },
    {
      "cell_type": "code",
      "source": [
        "# Download same stock data as markowitz.ipynb for consistency\n",
        "tickers = [\"AAPL\", \"MSFT\", \"GOOGL\", \"AMZN\", \"META\"]\n",
        "data = yf.download(tickers, start=\"2020-01-01\", end=\"2022-01-01\")[\"Close\"]\n",
        "\n",
        "# Calculate daily returns\n",
        "returns = data.pct_change().dropna()\n",
        "\n",
        "# Compute annualized mean and covariance (same as Markowitz)\n",
        "mu = returns.mean().values * 252        # annual expected returns\n",
        "Sigma = returns.cov().values * 252      # annual covariance\n",
        "n = len(tickers)\n",
        "\n",
        "print(\"Assets:\", tickers)\n",
        "print(\"Annualized Returns:\", mu)\n",
        "print(\"Covariance Matrix:\\n\", Sigma)\n"
      ],
      "metadata": {
        "colab": {
          "base_uri": "https://localhost:8080/"
        },
        "id": "pgUyuuUCeneF",
        "outputId": "31d85526-3d42-46e6-ca55-a0647e281954"
      },
      "execution_count": 20,
      "outputs": [
        {
          "output_type": "stream",
          "name": "stderr",
          "text": [
            "/tmp/ipython-input-3494063538.py:3: FutureWarning: YF.download() has changed argument auto_adjust default to True\n",
            "  data = yf.download(tickers, start=\"2020-01-01\", end=\"2022-01-01\")[\"Close\"]\n",
            "[*********************100%***********************]  5 of 5 completed"
          ]
        },
        {
          "output_type": "stream",
          "name": "stdout",
          "text": [
            "Assets: ['AAPL', 'MSFT', 'GOOGL', 'AMZN', 'META']\n",
            "Annualized Returns: [0.50818948 0.33335037 0.4269322  0.31071824 0.43847594]\n",
            "Covariance Matrix:\n",
            " [[0.1403949  0.08070659 0.08413941 0.10086649 0.10393238]\n",
            " [0.08070659 0.10328675 0.06700122 0.07851137 0.0769665 ]\n",
            " [0.08413941 0.06700122 0.10345879 0.09125102 0.09086271]\n",
            " [0.10086649 0.07851137 0.09125102 0.14896221 0.0928392 ]\n",
            " [0.10393238 0.0769665  0.09086271 0.0928392  0.11844968]]\n"
          ]
        },
        {
          "output_type": "stream",
          "name": "stderr",
          "text": [
            "\n"
          ]
        }
      ]
    },
    {
      "cell_type": "code",
      "source": [
        "!git clone https://github.com/JeromeNickson/Quantum-Portfolio-Optimization.git\n"
      ],
      "metadata": {
        "colab": {
          "base_uri": "https://localhost:8080/"
        },
        "id": "92kBDn1Ch_vG",
        "outputId": "be863890-c44b-495c-84c2-cbcf936bdfa7"
      },
      "execution_count": 21,
      "outputs": [
        {
          "output_type": "stream",
          "name": "stdout",
          "text": [
            "Cloning into 'Quantum-Portfolio-Optimization'...\n",
            "remote: Enumerating objects: 49, done.\u001b[K\n",
            "remote: Counting objects: 100% (49/49), done.\u001b[K\n",
            "remote: Compressing objects: 100% (41/41), done.\u001b[K\n",
            "remote: Total 49 (delta 12), reused 0 (delta 0), pack-reused 0 (from 0)\u001b[K\n",
            "Receiving objects: 100% (49/49), 169.25 KiB | 11.28 MiB/s, done.\n",
            "Resolving deltas: 100% (12/12), done.\n"
          ]
        }
      ]
    },
    {
      "cell_type": "code",
      "source": [
        "%cd Quantum-Portfolio-Optimization/notebooks\n"
      ],
      "metadata": {
        "colab": {
          "base_uri": "https://localhost:8080/"
        },
        "id": "CHVuc5iIiES3",
        "outputId": "9b7eac7a-c51f-4d10-bc87-01edf4f5119c"
      },
      "execution_count": 22,
      "outputs": [
        {
          "output_type": "stream",
          "name": "stdout",
          "text": [
            "/content/Quantum-Portfolio-Optimization/notebooks/Quantum-Portfolio-Optimization/notebooks\n"
          ]
        }
      ]
    },
    {
      "cell_type": "code",
      "source": [
        "!pwd\n",
        "!ls\n"
      ],
      "metadata": {
        "colab": {
          "base_uri": "https://localhost:8080/"
        },
        "id": "sNWFZ7aIhN2h",
        "outputId": "122ddff8-1658-4197-9250-059c93fb3e26"
      },
      "execution_count": 23,
      "outputs": [
        {
          "output_type": "stream",
          "name": "stdout",
          "text": [
            "/content/Quantum-Portfolio-Optimization/notebooks/Quantum-Portfolio-Optimization/notebooks\n",
            "markowitz.ipynb  quantum.ipynb\n"
          ]
        }
      ]
    },
    {
      "cell_type": "code",
      "source": [
        "!pwd\n",
        "!ls ../utils\n"
      ],
      "metadata": {
        "colab": {
          "base_uri": "https://localhost:8080/"
        },
        "id": "DIJSlaE4iucU",
        "outputId": "2487ee02-02ce-4387-813f-547325f92f6e"
      },
      "execution_count": 24,
      "outputs": [
        {
          "output_type": "stream",
          "name": "stdout",
          "text": [
            "/content/Quantum-Portfolio-Optimization/notebooks/Quantum-Portfolio-Optimization/notebooks\n",
            "markowitz_utils.py\n"
          ]
        }
      ]
    },
    {
      "cell_type": "code",
      "source": [
        "import sys\n",
        "sys.path.append(\"../utils\")\n"
      ],
      "metadata": {
        "id": "iMJs5VLSiMlI"
      },
      "execution_count": 25,
      "outputs": []
    },
    {
      "cell_type": "code",
      "source": [
        "from markowitz_utils import run_markowitz\n",
        "\n",
        "# Call Markowitz function\n",
        "#rf=0.02\n",
        "tangency_weights, tangency_return, tangency_risk, risks, rets = run_markowitz(mu, Sigma, rf)\n",
        "\n",
        "# Compute max Sharpe ratio separately\n",
        "sharpe_ratios = [(r - rf)/s if s>0 else -1 for r,s in zip(rets, risks)]\n",
        "max_idx = np.argmax(sharpe_ratios)\n",
        "sharpe_ratio = sharpe_ratios[max_idx]\n",
        "\n",
        "# Display\n",
        "print(\"Tangency Portfolio Weights (Max Sharpe):\")\n",
        "for i, t in enumerate(tickers):\n",
        "    print(f\"{t}: {tangency_weights[i]:.4f}\")\n",
        "\n",
        "print(\"\\nExpected Annual Return:\", round(tangency_return,4))\n",
        "print(\"Expected Annual Risk (Volatility):\", round(tangency_risk,4))\n",
        "print(\"Sharpe Ratio:\", round(sharpe_ratio,4))\n",
        "\n"
      ],
      "metadata": {
        "colab": {
          "base_uri": "https://localhost:8080/"
        },
        "id": "RXWMAVGgiQVT",
        "outputId": "34cde607-624a-4924-aeee-5b07e858477c"
      },
      "execution_count": 26,
      "outputs": [
        {
          "output_type": "stream",
          "name": "stdout",
          "text": [
            "Tangency Portfolio Weights (Max Sharpe):\n",
            "AAPL: 0.5040\n",
            "MSFT: 0.0000\n",
            "GOOGL: 0.4960\n",
            "AMZN: 0.0000\n",
            "META: 0.0000\n",
            "\n",
            "Expected Annual Return: 0.4679\n",
            "Expected Annual Risk (Volatility): 0.3212\n",
            "Sharpe Ratio: 1.3943\n"
          ]
        }
      ]
    },
    {
      "cell_type": "code",
      "source": [
        "# -------------------------\n",
        "# Cell 3: Build QUBO\n",
        "# -------------------------\n",
        "# Hyperparameters (tuneable)\n",
        "k = 3           # number of assets to select (cardinality)\n",
        "lam = 0.6       # risk vs return trade-off (0..1). Larger -> more risk-averse\n",
        "A = 10.0        # penalty weight for cardinality constraint (increase if cardinality not enforced)\n",
        "\n",
        "# Build QUBO matrix Q such that cost = x^T Q x (x in {0,1}^n)\n",
        "Q = np.zeros((n, n))\n",
        "\n",
        "# 1) Risk term (quadratic): lam * x^T Sigma x\n",
        "Q += lam * Sigma\n",
        "\n",
        "# 2) Return term (linear): we want to maximize mu^T x => minimize - (1-lam) * mu^T x\n",
        "for i in range(n):\n",
        "    Q[i, i] += - (1.0 - lam) * mu[i]\n",
        "\n",
        "# 3) Cardinality penalty: A * (sum_i x_i - k)^2\n",
        "# Expand: A * ( sum_i x_i + 2 sum_{i<j} x_i x_j - 2k sum_i x_i + k^2 )\n",
        "# So diagonal gets A*(1 - 2k), off-diagonals get 2A\n",
        "for i in range(n):\n",
        "    Q[i, i] += A * (1 - 2 * k)\n",
        "for i in range(n):\n",
        "    for j in range(i + 1, n):\n",
        "        Q[i, j] += 2 * A\n",
        "        Q[j, i] += 2 * A\n",
        "\n",
        "# Q is the final QUBO matrix\n",
        "print(\"QUBO matrix Q (shape {}):\\n\".format(Q.shape), np.round(Q, 4))\n"
      ],
      "metadata": {
        "colab": {
          "base_uri": "https://localhost:8080/"
        },
        "id": "FoVsfeLCesIV",
        "outputId": "da21862b-3541-403f-938b-b8522bcf86d6"
      },
      "execution_count": 27,
      "outputs": [
        {
          "output_type": "stream",
          "name": "stdout",
          "text": [
            "QUBO matrix Q (shape (5, 5)):\n",
            " [[-50.119   20.0484  20.0505  20.0605  20.0624]\n",
            " [ 20.0484 -50.0714  20.0402  20.0471  20.0462]\n",
            " [ 20.0505  20.0402 -50.1087  20.0548  20.0545]\n",
            " [ 20.0605  20.0471  20.0548 -50.0349  20.0557]\n",
            " [ 20.0624  20.0462  20.0545  20.0557 -50.1043]]\n"
          ]
        }
      ]
    },
    {
      "cell_type": "code",
      "source": [
        "# -------------------------\n",
        "# Cell 4: QUBO -> Ising and Hamiltonian\n",
        "# -------------------------\n",
        "def qubo_to_ising(Q):\n",
        "    # Convert QUBO (x in {0,1}) to Ising (z in {-1,1}) form:\n",
        "    # x = (1 - z)/2  =>  x_i x_j = (1 - z_i - z_j + z_i z_j)/4\n",
        "    n = Q.shape[0]\n",
        "    const = 0.0\n",
        "    h = np.zeros(n)      # linear Z coefficients\n",
        "    J = np.zeros((n, n)) # ZZ coefficients\n",
        "\n",
        "    # Compute constant, linear, and quadratic terms\n",
        "    for i in range(n):\n",
        "        for j in range(n):\n",
        "            qij = Q[i, j]\n",
        "            const += qij * 0.25        # from (1/4) * qij\n",
        "    const = const  # already summed\n",
        "\n",
        "    # Linear (h) and quadratic (J)\n",
        "    for i in range(n):\n",
        "        # diagonal contributions: Q[ii] * x_i^2 => x_i = (1-z_i)/2 => contributes (Q_ii/4) - (Q_ii/2) z_i/2?\n",
        "        # Simpler to compute from expansion of x^T Q x\n",
        "        # We'll compute h and J by expanding formula:\n",
        "        # x^T Q x = sum_{i,j} Q_ij * (1 - z_i - z_j + z_i z_j)/4\n",
        "        # Collect z_i and z_i z_j coefficients directly:\n",
        "        pass\n",
        "\n",
        "    # Explicit expansion to avoid algebra mistakes:\n",
        "    # Initialize accumulators\n",
        "    const = 0.0\n",
        "    h = np.zeros(n)\n",
        "    J = np.zeros((n,n))\n",
        "\n",
        "    for i in range(n):\n",
        "        for j in range(n):\n",
        "            qij = Q[i, j]\n",
        "            const += qij * 0.25                     # (1/4) * Q_ij\n",
        "            h[i] += -0.25 * qij                     # from -z_i * Q_ij /4\n",
        "            # note: contribution to h[j] from this pair will be handled when loop reaches j,i\n",
        "            # For the z_i z_j term:\n",
        "    # Now handle z_i z_j (i<j) properly:\n",
        "    for i in range(n):\n",
        "        for j in range(i+1, n):\n",
        "            qij = Q[i, j]\n",
        "            J[i, j] += 0.25 * qij\n",
        "            J[j, i] = J[i, j]\n",
        "            # adjust h because earlier double counted -0.25 * qij for both h[i] and h[j]\n",
        "            # The previous loop already added -0.25*qij to h[i] and -0.25*qji (same) to h[j]\n",
        "            # So no further adjustment needed here.\n",
        "\n",
        "    # Note: diagonal Q_ii terms have been handled in const and h above.\n",
        "    # Return const, h, J\n",
        "    return const, h, J\n",
        "\n",
        "const, h, J = qubo_to_ising(Q)\n",
        "\n",
        "# Build PennyLane Hamiltonian H_cost = const + sum_i h_i Z_i + sum_{i<j} J_ij Z_i Z_j\n",
        "coeffs = []\n",
        "ops = []\n",
        "for i in range(n):\n",
        "    if abs(h[i]) > 1e-12:\n",
        "        coeffs.append(float(h[i]))\n",
        "        ops.append(qml.PauliZ(i))\n",
        "for i in range(n):\n",
        "    for j in range(i+1, n):\n",
        "        if abs(J[i, j]) > 1e-12:\n",
        "            coeffs.append(float(J[i, j]))\n",
        "            ops.append(qml.PauliZ(i) @ qml.PauliZ(j))\n",
        "\n",
        "H_cost = qml.Hamiltonian(coeffs, ops)\n",
        "print(\"Hamiltonian built: {} terms\".format(len(coeffs)))\n"
      ],
      "metadata": {
        "colab": {
          "base_uri": "https://localhost:8080/"
        },
        "id": "RS4xBi2mev-B",
        "outputId": "9ff4f7dc-634f-40fa-fea8-77b4d2d48444"
      },
      "execution_count": 28,
      "outputs": [
        {
          "output_type": "stream",
          "name": "stdout",
          "text": [
            "Hamiltonian built: 15 terms\n"
          ]
        }
      ]
    },
    {
      "cell_type": "code",
      "source": [
        "# -------------------------\n",
        "# Cell 5: QAOA circuit + optimization (fixed float issue)\n",
        "# -------------------------\n",
        "p = 2   # QAOA depth\n",
        "dev = qml.device(\"default.qubit\", wires=n)\n",
        "\n",
        "@qml.qnode(dev, interface=\"autograd\")\n",
        "def qaoa_expectation(gammas, betas):\n",
        "    # initial |+>^n\n",
        "    for i in range(n):\n",
        "        qml.Hadamard(wires=i)\n",
        "    # p layers\n",
        "    for layer in range(p):\n",
        "        # cost unitary (approximate)\n",
        "        qml.ApproxTimeEvolution(H_cost, gammas[layer], 1)\n",
        "        # mixer\n",
        "        for i in range(n):\n",
        "            qml.RX(2.0 * betas[layer], wires=i)\n",
        "    return qml.expval(H_cost)\n",
        "\n",
        "# Initialize parameters as pennylane numpy arrays (autograd-compatible)\n",
        "rng = np.random.default_rng(123)\n",
        "gammas = pnp.array(rng.uniform(0, 2*np.pi, size=(p,)), requires_grad=True)\n",
        "betas  = pnp.array(rng.uniform(0, 2*np.pi, size=(p,)), requires_grad=True)\n",
        "\n",
        "# Optimizer\n",
        "opt = qml.AdamOptimizer(stepsize=0.1)\n",
        "max_iters = 60\n",
        "\n",
        "print(\"Starting QAOA optimization...\")\n",
        "for it in range(max_iters):\n",
        "    gammas, betas = opt.step(lambda g,b: qaoa_expectation(g,b), gammas, betas)\n",
        "    if (it+1) % 10 == 0 or it == 0:\n",
        "        val = qaoa_expectation(gammas, betas)\n",
        "        print(f\" Iter {it+1:3d}: expectation = {val:.6f}\")\n",
        "print(\"QAOA optimization finished. Final expectation:\", qaoa_expectation(gammas, betas))\n"
      ],
      "metadata": {
        "colab": {
          "base_uri": "https://localhost:8080/"
        },
        "id": "4GpVCIhYe2PP",
        "outputId": "14eb7b91-8ff6-4807-8043-1af7e92c0343"
      },
      "execution_count": 29,
      "outputs": [
        {
          "output_type": "stream",
          "name": "stdout",
          "text": [
            "Starting QAOA optimization...\n",
            " Iter   1: expectation = 23.404614\n",
            " Iter  10: expectation = -10.843104\n",
            " Iter  20: expectation = -11.856907\n",
            " Iter  30: expectation = -14.109338\n",
            " Iter  40: expectation = -14.120149\n",
            " Iter  50: expectation = -14.501603\n",
            " Iter  60: expectation = -14.571681\n",
            "QAOA optimization finished. Final expectation: -14.571681045164883\n"
          ]
        }
      ]
    },
    {
      "cell_type": "code",
      "source": [
        "# -------------------------\n",
        "# Cell 6: Sample bitstrings from final QAOA state\n",
        "# -------------------------\n",
        "\n",
        "shots = 1000  # number of samples to draw\n",
        "\n",
        "# Create a new device in sampling mode\n",
        "dev_sample = qml.device(\"default.qubit\", wires=n, shots=shots)\n",
        "\n",
        "@qml.qnode(dev_sample)\n",
        "def qaoa_sampling(gammas, betas):\n",
        "    # initial |+>^n\n",
        "    for i in range(n):\n",
        "        qml.Hadamard(wires=i)\n",
        "    # QAOA layers\n",
        "    for layer in range(p):\n",
        "        qml.ApproxTimeEvolution(H_cost, gammas[layer], 1)\n",
        "        for i in range(n):\n",
        "            qml.RX(2.0 * betas[layer], wires=i)\n",
        "    return qml.sample(wires=range(n))\n",
        "\n",
        "# Sample the circuit\n",
        "samples = qaoa_sampling(gammas, betas)\n",
        "samples = np.array(samples)\n",
        "\n",
        "# Convert samples to bitstrings\n",
        "bitstrings = [\"\".join(str(b) for b in sample) for sample in samples]\n",
        "unique, counts = np.unique(bitstrings, return_counts=True)\n",
        "\n",
        "print(\"Top QAOA solutions (most frequent bitstrings):\")\n",
        "for b, c in sorted(zip(unique, counts), key=lambda x: x[1], reverse=True)[:5]:\n",
        "    print(f\"  {b}  ->  freq: {c} ({100*c/shots:.2f}%)\")\n"
      ],
      "metadata": {
        "colab": {
          "base_uri": "https://localhost:8080/"
        },
        "id": "rF3oerxMe50O",
        "outputId": "ca54d424-8fae-4f0e-bbed-77934d0c4782"
      },
      "execution_count": 30,
      "outputs": [
        {
          "output_type": "stream",
          "name": "stdout",
          "text": [
            "Top QAOA solutions (most frequent bitstrings):\n",
            "  01010  ->  freq: 86 (8.60%)\n",
            "  11000  ->  freq: 86 (8.60%)\n",
            "  00110  ->  freq: 81 (8.10%)\n",
            "  10010  ->  freq: 73 (7.30%)\n",
            "  00101  ->  freq: 72 (7.20%)\n"
          ]
        }
      ]
    },
    {
      "cell_type": "code",
      "source": [
        "# -------------------------\n",
        "# Cell 7: Convert best bitstring to portfolio weights\n",
        "# -------------------------\n",
        "rf = 0.02  # risk-free rate (2%)\n",
        "\n",
        "# Take the most frequent bitstring as the \"optimal\" solution\n",
        "best_bitstring = sorted(zip(unique, counts), key=lambda x: x[1], reverse=True)[0][0]\n",
        "\n",
        "# Determine selected assets\n",
        "selected_assets = [tickers[i] for i, bit in enumerate(best_bitstring) if bit == \"1\"]\n",
        "\n",
        "# Avoid division by zero if no assets are selected\n",
        "if len(selected_assets) == 0:\n",
        "    print(\"Warning: No assets selected by QAOA. Using equal weights fallback.\")\n",
        "    weights_qaoa = np.ones(n) / n\n",
        "else:\n",
        "    weights_qaoa = np.array([1/len(selected_assets) if bit == \"1\" else 0 for bit in best_bitstring])\n",
        "\n",
        "# Compute portfolio metrics for QAOA solution\n",
        "ret_qaoa = np.dot(mu, weights_qaoa)\n",
        "risk_qaoa = np.sqrt(weights_qaoa.T @ Sigma @ weights_qaoa)\n",
        "sharpe_qaoa = (ret_qaoa - rf) / risk_qaoa\n",
        "\n",
        "# Display results\n",
        "print(\"\\nQAOA Selected Portfolio:\")\n",
        "for i, t in enumerate(tickers):\n",
        "    print(f\"  {t}: {weights_qaoa[i]:.2f}\")\n",
        "\n",
        "print(f\"\\nExpected Return (annual): {ret_qaoa:.4f}\")\n",
        "print(f\"Expected Risk (volatility): {risk_qaoa:.4f}\")\n",
        "print(f\"Sharpe Ratio: {sharpe_qaoa:.4f}\")\n"
      ],
      "metadata": {
        "colab": {
          "base_uri": "https://localhost:8080/"
        },
        "id": "cQUJRDQQg8zr",
        "outputId": "6e8c7122-3298-4817-e1b4-8220dfd9fc2d"
      },
      "execution_count": 31,
      "outputs": [
        {
          "output_type": "stream",
          "name": "stdout",
          "text": [
            "\n",
            "QAOA Selected Portfolio:\n",
            "  AAPL: 0.00\n",
            "  MSFT: 0.50\n",
            "  GOOGL: 0.00\n",
            "  AMZN: 0.50\n",
            "  META: 0.00\n",
            "\n",
            "Expected Return (annual): 0.3220\n",
            "Expected Risk (volatility): 0.3199\n",
            "Sharpe Ratio: 0.9442\n"
          ]
        }
      ]
    },
    {
      "cell_type": "code",
      "source": [
        "# -------------------------\n",
        "# Visualization: Efficient Frontier + Tangency + QAOA\n",
        "# -------------------------\n",
        "\n",
        "plt.figure(figsize=(10,6))\n",
        "\n",
        "# Plot Markowitz Efficient Frontier\n",
        "plt.plot(risks, rets, 'b--', label='Efficient Frontier')\n",
        "plt.scatter(risks, rets, c='blue', s=20)\n",
        "\n",
        "# Highlight Markowitz Tangency Portfolio\n",
        "plt.scatter(tangency_risk, tangency_return, c='red', marker='*', s=200, label='Markowitz Tangency')\n",
        "\n",
        "# Highlight QAOA Portfolio\n",
        "plt.scatter(risk_qaoa, ret_qaoa, c='green', marker='o', s=150, label='QAOA Portfolio')\n",
        "\n",
        "# Labels and title\n",
        "plt.xlabel('Volatility (Std Dev)')\n",
        "plt.ylabel('Expected Return')\n",
        "plt.title('Portfolio Optimization: Markowitz vs QAOA')\n",
        "plt.legend()\n",
        "plt.grid(True)\n",
        "plt.show()\n"
      ],
      "metadata": {
        "id": "4rav4r-Kj9zJ",
        "outputId": "342b342d-9d5a-4711-c421-2c8d56193785",
        "colab": {
          "base_uri": "https://localhost:8080/",
          "height": 564
        }
      },
      "execution_count": 32,
      "outputs": [
        {
          "output_type": "display_data",
          "data": {
            "text/plain": [
              "<Figure size 1000x600 with 1 Axes>"
            ],
            "image/png": "[encoded data removed]"
          },
          "metadata": {}
        }
      ]
    },
    {
      "cell_type": "code",
      "source": [
        "# -------------------------\n",
        "# Bar Chart: Portfolio Weights Comparison\n",
        "# -------------------------\n",
        "\n",
        "import matplotlib.ticker as mtick\n",
        "\n",
        "x = np.arange(len(tickers))  # positions for bars\n",
        "width = 0.35                # width of bars\n",
        "\n",
        "plt.figure(figsize=(10,6))\n",
        "plt.bar(x - width/2, tangency_weights, width, label='Markowitz Tangency', color='blue', alpha=0.7)\n",
        "plt.bar(x + width/2, weights_qaoa, width, label='QAOA Portfolio', color='green', alpha=0.7)\n",
        "\n",
        "# Labels and title\n",
        "plt.xlabel('Assets')\n",
        "plt.ylabel('Portfolio Weight')\n",
        "plt.title('Comparison of Portfolio Weights')\n",
        "plt.xticks(x, tickers)\n",
        "plt.ylim(0, 1)\n",
        "plt.gca().yaxis.set_major_formatter(mtick.PercentFormatter(1.0))\n",
        "plt.legend()\n",
        "plt.grid(axis='y', linestyle='--', alpha=0.7)\n",
        "plt.show()\n"
      ],
      "metadata": {
        "id": "25sPmZQBl1UB",
        "outputId": "bcd99f11-8d4c-4d8c-dd0b-e4111b3bfe3b",
        "colab": {
          "base_uri": "https://localhost:8080/",
          "height": 564
        }
      },
      "execution_count": 18,
      "outputs": [
        {
          "output_type": "display_data",
          "data": {
            "text/plain": [
              "<Figure size 1000x600 with 1 Axes>"
            ],
            "image/png": "[encoded data removed]"
          },
          "metadata": {}
        }
      ]
    }
  ]
}