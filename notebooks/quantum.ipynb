{
  "nbformat": 4,
  "nbformat_minor": 0,
  "metadata": {
    "colab": {
      "provenance": [],
      "authorship_tag": "ABX9TyM19e+OEa9R0EmvXXGcvliE",
      "include_colab_link": true
    },
    "kernelspec": {
      "name": "python3",
      "display_name": "Python 3"
    },
    "language_info": {
      "name": "python"
    }
  },
  "cells": [
    {
      "cell_type": "markdown",
      "metadata": {
        "id": "view-in-github",
        "colab_type": "text"
      },
      "source": [
        "<a href=\"https://colab.research.google.com/github/JeromeNickson/Quantum-Portfolio-Optimization/blob/main/notebooks/quantum.ipynb\" target=\"_parent\"><img src=\"https://colab.research.google.com/assets/colab-badge.svg\" alt=\"Open In Colab\"/></a>"
      ]
    },
    {
      "cell_type": "code",
      "source": [
        "# Install required libraries\n",
        "!pip install yfinance pennylane matplotlib\n",
        "\n",
        "# Import libraries\n",
        "import numpy as np\n",
        "import pandas as pd\n",
        "import yfinance as yf\n",
        "import matplotlib.pyplot as plt\n",
        "import pennylane as qml\n",
        "from pennylane import numpy as pnp\n"
      ],
      "metadata": {
        "colab": {
          "base_uri": "https://localhost:8080/"
        },
        "id": "hmMRRebVejUC",
        "outputId": "6cebcd29-b59a-437c-a589-9d3adb518d4a"
      },
      "execution_count": 1,
      "outputs": [
        {
          "output_type": "stream",
          "name": "stdout",
          "text": [
            "Requirement already satisfied: yfinance in /usr/local/lib/python3.12/dist-packages (0.2.65)\n",
            "Collecting pennylane\n",
            "  Downloading pennylane-0.42.3-py3-none-any.whl.metadata (11 kB)\n",
            "Requirement already satisfied: matplotlib in /usr/local/lib/python3.12/dist-packages (3.10.0)\n",
            "Requirement already satisfied: pandas>=1.3.0 in /usr/local/lib/python3.12/dist-packages (from yfinance) (2.2.2)\n",
            "Requirement already satisfied: numpy>=1.16.5 in /usr/local/lib/python3.12/dist-packages (from yfinance) (2.0.2)\n",
            "Requirement already satisfied: requests>=2.31 in /usr/local/lib/python3.12/dist-packages (from yfinance) (2.32.4)\n",
            "Requirement already satisfied: multitasking>=0.0.7 in /usr/local/lib/python3.12/dist-packages (from yfinance) (0.0.12)\n",
            "Requirement already satisfied: platformdirs>=2.0.0 in /usr/local/lib/python3.12/dist-packages (from yfinance) (4.4.0)\n",
            "Requirement already satisfied: pytz>=2022.5 in /usr/local/lib/python3.12/dist-packages (from yfinance) (2025.2)\n",
            "Requirement already satisfied: frozendict>=2.3.4 in /usr/local/lib/python3.12/dist-packages (from yfinance) (2.4.6)\n",
            "Requirement already satisfied: peewee>=3.16.2 in /usr/local/lib/python3.12/dist-packages (from yfinance) (3.18.2)\n",
            "Requirement already satisfied: beautifulsoup4>=4.11.1 in /usr/local/lib/python3.12/dist-packages (from yfinance) (4.13.5)\n",
            "Requirement already satisfied: curl_cffi>=0.7 in /usr/local/lib/python3.12/dist-packages (from yfinance) (0.13.0)\n",
            "Requirement already satisfied: protobuf>=3.19.0 in /usr/local/lib/python3.12/dist-packages (from yfinance) (5.29.5)\n",
            "Requirement already satisfied: websockets>=13.0 in /usr/local/lib/python3.12/dist-packages (from yfinance) (15.0.1)\n",
            "Requirement already satisfied: scipy in /usr/local/lib/python3.12/dist-packages (from pennylane) (1.16.1)\n",
            "Requirement already satisfied: networkx in /usr/local/lib/python3.12/dist-packages (from pennylane) (3.5)\n",
            "Collecting rustworkx>=0.14.0 (from pennylane)\n",
            "  Downloading rustworkx-0.17.1-cp39-abi3-manylinux_2_17_x86_64.manylinux2014_x86_64.whl.metadata (10 kB)\n",
            "Requirement already satisfied: autograd in /usr/local/lib/python3.12/dist-packages (from pennylane) (1.8.0)\n",
            "Collecting appdirs (from pennylane)\n",
            "  Downloading appdirs-1.4.4-py2.py3-none-any.whl.metadata (9.0 kB)\n",
            "Collecting autoray<0.8,>=0.6.11 (from pennylane)\n",
            "  Downloading autoray-0.7.2-py3-none-any.whl.metadata (5.8 kB)\n",
            "Requirement already satisfied: cachetools in /usr/local/lib/python3.12/dist-packages (from pennylane) (5.5.2)\n",
            "Collecting pennylane-lightning>=0.42 (from pennylane)\n",
            "  Downloading pennylane_lightning-0.42.0-cp312-cp312-manylinux_2_28_x86_64.whl.metadata (11 kB)\n",
            "Requirement already satisfied: tomlkit in /usr/local/lib/python3.12/dist-packages (from pennylane) (0.13.3)\n",
            "Requirement already satisfied: typing_extensions in /usr/local/lib/python3.12/dist-packages (from pennylane) (4.15.0)\n",
            "Requirement already satisfied: packaging in /usr/local/lib/python3.12/dist-packages (from pennylane) (25.0)\n",
            "Collecting diastatic-malt (from pennylane)\n",
            "  Downloading diastatic_malt-2.15.2-py3-none-any.whl.metadata (2.6 kB)\n",
            "Requirement already satisfied: contourpy>=1.0.1 in /usr/local/lib/python3.12/dist-packages (from matplotlib) (1.3.3)\n",
            "Requirement already satisfied: cycler>=0.10 in /usr/local/lib/python3.12/dist-packages (from matplotlib) (0.12.1)\n",
            "Requirement already satisfied: fonttools>=4.22.0 in /usr/local/lib/python3.12/dist-packages (from matplotlib) (4.59.2)\n",
            "Requirement already satisfied: kiwisolver>=1.3.1 in /usr/local/lib/python3.12/dist-packages (from matplotlib) (1.4.9)\n",
            "Requirement already satisfied: pillow>=8 in /usr/local/lib/python3.12/dist-packages (from matplotlib) (11.3.0)\n",
            "Requirement already satisfied: pyparsing>=2.3.1 in /usr/local/lib/python3.12/dist-packages (from matplotlib) (3.2.3)\n",
            "Requirement already satisfied: python-dateutil>=2.7 in /usr/local/lib/python3.12/dist-packages (from matplotlib) (2.9.0.post0)\n",
            "Requirement already satisfied: soupsieve>1.2 in /usr/local/lib/python3.12/dist-packages (from beautifulsoup4>=4.11.1->yfinance) (2.8)\n",
            "Requirement already satisfied: cffi>=1.12.0 in /usr/local/lib/python3.12/dist-packages (from curl_cffi>=0.7->yfinance) (2.0.0)\n",
            "Requirement already satisfied: certifi>=2024.2.2 in /usr/local/lib/python3.12/dist-packages (from curl_cffi>=0.7->yfinance) (2025.8.3)\n",
            "Requirement already satisfied: tzdata>=2022.7 in /usr/local/lib/python3.12/dist-packages (from pandas>=1.3.0->yfinance) (2025.2)\n",
            "Collecting scipy-openblas32>=0.3.26 (from pennylane-lightning>=0.42->pennylane)\n",
            "  Downloading scipy_openblas32-0.3.30.0.2-py3-none-manylinux2014_x86_64.manylinux_2_17_x86_64.whl.metadata (57 kB)\n",
            "\u001b[2K     \u001b[90m━━━━━━━━━━━━━━━━━━━━━━━━━━━━━━━━━━━━━━━━\u001b[0m \u001b[32m57.1/57.1 kB\u001b[0m \u001b[31m1.3 MB/s\u001b[0m eta \u001b[36m0:00:00\u001b[0m\n",
            "\u001b[?25hRequirement already satisfied: six>=1.5 in /usr/local/lib/python3.12/dist-packages (from python-dateutil>=2.7->matplotlib) (1.17.0)\n",
            "Requirement already satisfied: charset_normalizer<4,>=2 in /usr/local/lib/python3.12/dist-packages (from requests>=2.31->yfinance) (3.4.3)\n",
            "Requirement already satisfied: idna<4,>=2.5 in /usr/local/lib/python3.12/dist-packages (from requests>=2.31->yfinance) (3.10)\n",
            "Requirement already satisfied: urllib3<3,>=1.21.1 in /usr/local/lib/python3.12/dist-packages (from requests>=2.31->yfinance) (2.5.0)\n",
            "Requirement already satisfied: astunparse in /usr/local/lib/python3.12/dist-packages (from diastatic-malt->pennylane) (1.6.3)\n",
            "Requirement already satisfied: gast in /usr/local/lib/python3.12/dist-packages (from diastatic-malt->pennylane) (0.6.0)\n",
            "Requirement already satisfied: termcolor in /usr/local/lib/python3.12/dist-packages (from diastatic-malt->pennylane) (3.1.0)\n",
            "Requirement already satisfied: pycparser in /usr/local/lib/python3.12/dist-packages (from cffi>=1.12.0->curl_cffi>=0.7->yfinance) (2.23)\n",
            "Requirement already satisfied: wheel<1.0,>=0.23.0 in /usr/local/lib/python3.12/dist-packages (from astunparse->diastatic-malt->pennylane) (0.45.1)\n",
            "Downloading pennylane-0.42.3-py3-none-any.whl (4.8 MB)\n",
            "\u001b[2K   \u001b[90m━━━━━━━━━━━━━━━━━━━━━━━━━━━━━━━━━━━━━━━━\u001b[0m \u001b[32m4.8/4.8 MB\u001b[0m \u001b[31m28.1 MB/s\u001b[0m eta \u001b[36m0:00:00\u001b[0m\n",
            "\u001b[?25hDownloading autoray-0.7.2-py3-none-any.whl (930 kB)\n",
            "\u001b[2K   \u001b[90m━━━━━━━━━━━━━━━━━━━━━━━━━━━━━━━━━━━━━━━━\u001b[0m \u001b[32m930.8/930.8 kB\u001b[0m \u001b[31m39.2 MB/s\u001b[0m eta \u001b[36m0:00:00\u001b[0m\n",
            "\u001b[?25hDownloading pennylane_lightning-0.42.0-cp312-cp312-manylinux_2_28_x86_64.whl (2.6 MB)\n",
            "\u001b[2K   \u001b[90m━━━━━━━━━━━━━━━━━━━━━━━━━━━━━━━━━━━━━━━━\u001b[0m \u001b[32m2.6/2.6 MB\u001b[0m \u001b[31m58.8 MB/s\u001b[0m eta \u001b[36m0:00:00\u001b[0m\n",
            "\u001b[?25hDownloading rustworkx-0.17.1-cp39-abi3-manylinux_2_17_x86_64.manylinux2014_x86_64.whl (2.2 MB)\n",
            "\u001b[2K   \u001b[90m━━━━━━━━━━━━━━━━━━━━━━━━━━━━━━━━━━━━━━━━\u001b[0m \u001b[32m2.2/2.2 MB\u001b[0m \u001b[31m44.2 MB/s\u001b[0m eta \u001b[36m0:00:00\u001b[0m\n",
            "\u001b[?25hDownloading appdirs-1.4.4-py2.py3-none-any.whl (9.6 kB)\n",
            "Downloading diastatic_malt-2.15.2-py3-none-any.whl (167 kB)\n",
            "\u001b[2K   \u001b[90m━━━━━━━━━━━━━━━━━━━━━━━━━━━━━━━━━━━━━━━━\u001b[0m \u001b[32m167.9/167.9 kB\u001b[0m \u001b[31m9.1 MB/s\u001b[0m eta \u001b[36m0:00:00\u001b[0m\n",
            "\u001b[?25hDownloading scipy_openblas32-0.3.30.0.2-py3-none-manylinux2014_x86_64.manylinux_2_17_x86_64.whl (8.6 MB)\n",
            "\u001b[2K   \u001b[90m━━━━━━━━━━━━━━━━━━━━━━━━━━━━━━━━━━━━━━━━\u001b[0m \u001b[32m8.6/8.6 MB\u001b[0m \u001b[31m55.1 MB/s\u001b[0m eta \u001b[36m0:00:00\u001b[0m\n",
            "\u001b[?25hInstalling collected packages: appdirs, scipy-openblas32, rustworkx, autoray, diastatic-malt, pennylane-lightning, pennylane\n",
            "Successfully installed appdirs-1.4.4 autoray-0.7.2 diastatic-malt-2.15.2 pennylane-0.42.3 pennylane-lightning-0.42.0 rustworkx-0.17.1 scipy-openblas32-0.3.30.0.2\n"
          ]
        }
      ]
    },
    {
      "cell_type": "code",
      "source": [
        "# Download same stock data as markowitz.ipynb for consistency\n",
        "tickers = [\"AAPL\", \"MSFT\", \"GOOGL\", \"AMZN\", \"META\"]\n",
        "data = yf.download(tickers, start=\"2020-01-01\", end=\"2022-01-01\")[\"Close\"]\n",
        "\n",
        "# Calculate daily returns\n",
        "returns = data.pct_change().dropna()\n",
        "\n",
        "# Compute annualized mean and covariance (same as Markowitz)\n",
        "mu = returns.mean().values * 252        # annual expected returns\n",
        "Sigma = returns.cov().values * 252      # annual covariance\n",
        "n = len(tickers)\n",
        "\n",
        "print(\"Assets:\", tickers)\n",
        "print(\"Annualized Returns:\", mu)\n",
        "print(\"Covariance Matrix:\\n\", Sigma)\n"
      ],
      "metadata": {
        "colab": {
          "base_uri": "https://localhost:8080/"
        },
        "id": "pgUyuuUCeneF",
        "outputId": "1b46f164-c990-43e3-d094-3331e35ea776"
      },
      "execution_count": 2,
      "outputs": [
        {
          "output_type": "stream",
          "name": "stderr",
          "text": [
            "/tmp/ipython-input-3494063538.py:3: FutureWarning: YF.download() has changed argument auto_adjust default to True\n",
            "  data = yf.download(tickers, start=\"2020-01-01\", end=\"2022-01-01\")[\"Close\"]\n",
            "[*********************100%***********************]  5 of 5 completed"
          ]
        },
        {
          "output_type": "stream",
          "name": "stdout",
          "text": [
            "Assets: ['AAPL', 'MSFT', 'GOOGL', 'AMZN', 'META']\n",
            "Annualized Returns: [0.50818937 0.33335037 0.4269322  0.3107182  0.43847588]\n",
            "Covariance Matrix:\n",
            " [[0.14039476 0.08070658 0.08413939 0.10086635 0.1039322 ]\n",
            " [0.08070658 0.10328675 0.06700121 0.07851132 0.07696647]\n",
            " [0.08413939 0.06700121 0.10345879 0.09125095 0.09086261]\n",
            " [0.10086635 0.07851132 0.09125095 0.14896206 0.09283901]\n",
            " [0.1039322  0.07696647 0.09086261 0.09283901 0.11844947]]\n"
          ]
        },
        {
          "output_type": "stream",
          "name": "stderr",
          "text": [
            "\n"
          ]
        }
      ]
    },
    {
      "cell_type": "code",
      "source": [
        "!git clone https://github.com/JeromeNickson/Quantum-Portfolio-Optimization.git\n"
      ],
      "metadata": {
        "colab": {
          "base_uri": "https://localhost:8080/"
        },
        "id": "92kBDn1Ch_vG",
        "outputId": "a5746054-641c-4a3f-b4ca-27eceaeca82c"
      },
      "execution_count": 14,
      "outputs": [
        {
          "output_type": "stream",
          "name": "stdout",
          "text": [
            "Cloning into 'Quantum-Portfolio-Optimization'...\n",
            "remote: Enumerating objects: 45, done.\u001b[K\n",
            "remote: Counting objects: 100% (45/45), done.\u001b[K\n",
            "remote: Compressing objects: 100% (37/37), done.\u001b[K\n",
            "remote: Total 45 (delta 11), reused 0 (delta 0), pack-reused 0 (from 0)\u001b[K\n",
            "Receiving objects: 100% (45/45), 88.72 KiB | 272.00 KiB/s, done.\n",
            "Resolving deltas: 100% (11/11), done.\n"
          ]
        }
      ]
    },
    {
      "cell_type": "code",
      "source": [
        "%cd Quantum-Portfolio-Optimization/notebooks\n"
      ],
      "metadata": {
        "colab": {
          "base_uri": "https://localhost:8080/"
        },
        "id": "CHVuc5iIiES3",
        "outputId": "8af4b166-d2c8-4ef4-fb8b-02a0b433e991"
      },
      "execution_count": 15,
      "outputs": [
        {
          "output_type": "stream",
          "name": "stdout",
          "text": [
            "/content/Quantum-Portfolio-Optimization/notebooks\n"
          ]
        }
      ]
    },
    {
      "cell_type": "code",
      "source": [
        "!pwd\n",
        "!ls\n"
      ],
      "metadata": {
        "colab": {
          "base_uri": "https://localhost:8080/"
        },
        "id": "sNWFZ7aIhN2h",
        "outputId": "17385615-d4ec-4a97-dcb8-2ebb6bf4c999"
      },
      "execution_count": 16,
      "outputs": [
        {
          "output_type": "stream",
          "name": "stdout",
          "text": [
            "/content/Quantum-Portfolio-Optimization/notebooks\n",
            "markowitz.ipynb  quantum.ipynb\n"
          ]
        }
      ]
    },
    {
      "cell_type": "code",
      "source": [
        "!pwd\n",
        "!ls ../utils\n"
      ],
      "metadata": {
        "colab": {
          "base_uri": "https://localhost:8080/"
        },
        "id": "DIJSlaE4iucU",
        "outputId": "104389d9-349f-4681-fe2e-dc4b879c3005"
      },
      "execution_count": 19,
      "outputs": [
        {
          "output_type": "stream",
          "name": "stdout",
          "text": [
            "/content/Quantum-Portfolio-Optimization/notebooks\n",
            "markowitz_utils.py  __pycache__\n"
          ]
        }
      ]
    },
    {
      "cell_type": "code",
      "source": [
        "import sys\n",
        "sys.path.append(\"../utils\")\n"
      ],
      "metadata": {
        "id": "iMJs5VLSiMlI"
      },
      "execution_count": 17,
      "outputs": []
    },
    {
      "cell_type": "code",
      "source": [
        "from markowitz_utils import run_markowitz\n",
        "\n",
        "# Call Markowitz function\n",
        "tangency_weights, tangency_return, tangency_risk, risks, rets = run_markowitz(mu, Sigma, rf)\n",
        "\n",
        "# Compute max Sharpe ratio separately\n",
        "sharpe_ratios = [(r - rf)/s if s>0 else -1 for r,s in zip(rets, risks)]\n",
        "max_idx = np.argmax(sharpe_ratios)\n",
        "sharpe_ratio = sharpe_ratios[max_idx]\n",
        "\n",
        "# Display\n",
        "print(\"Tangency Portfolio Weights (Max Sharpe):\")\n",
        "for i, t in enumerate(tickers):\n",
        "    print(f\"{t}: {tangency_weights[i]:.4f}\")\n",
        "\n",
        "print(\"\\nExpected Annual Return:\", round(tangency_return,4))\n",
        "print(\"Expected Annual Risk (Volatility):\", round(tangency_risk,4))\n",
        "print(\"Sharpe Ratio:\", round(sharpe_ratio,4))\n",
        "\n"
      ],
      "metadata": {
        "colab": {
          "base_uri": "https://localhost:8080/"
        },
        "id": "RXWMAVGgiQVT",
        "outputId": "78062cf8-4c9d-44f2-cce2-77676461c328"
      },
      "execution_count": 22,
      "outputs": [
        {
          "output_type": "stream",
          "name": "stdout",
          "text": [
            "Tangency Portfolio Weights (Max Sharpe):\n",
            "0.5040408338917185: 0.5040\n",
            "2.666937614015057e-22: 0.0000\n",
            "0.4959591661082815: 0.4960\n",
            "3.6493924117477634e-22: 0.0000\n",
            "5.477521293305447e-23: 0.0000\n",
            "\n",
            "Expected Annual Return: 0.4679\n",
            "Expected Annual Risk (Volatility): 0.3212\n",
            "Sharpe Ratio: 1.3943\n"
          ]
        }
      ]
    },
    {
      "cell_type": "code",
      "source": [
        "# -------------------------\n",
        "# Cell 3: Build QUBO\n",
        "# -------------------------\n",
        "# Hyperparameters (tuneable)\n",
        "k = 3           # number of assets to select (cardinality)\n",
        "lam = 0.6       # risk vs return trade-off (0..1). Larger -> more risk-averse\n",
        "A = 10.0        # penalty weight for cardinality constraint (increase if cardinality not enforced)\n",
        "\n",
        "# Build QUBO matrix Q such that cost = x^T Q x (x in {0,1}^n)\n",
        "Q = np.zeros((n, n))\n",
        "\n",
        "# 1) Risk term (quadratic): lam * x^T Sigma x\n",
        "Q += lam * Sigma\n",
        "\n",
        "# 2) Return term (linear): we want to maximize mu^T x => minimize - (1-lam) * mu^T x\n",
        "for i in range(n):\n",
        "    Q[i, i] += - (1.0 - lam) * mu[i]\n",
        "\n",
        "# 3) Cardinality penalty: A * (sum_i x_i - k)^2\n",
        "# Expand: A * ( sum_i x_i + 2 sum_{i<j} x_i x_j - 2k sum_i x_i + k^2 )\n",
        "# So diagonal gets A*(1 - 2k), off-diagonals get 2A\n",
        "for i in range(n):\n",
        "    Q[i, i] += A * (1 - 2 * k)\n",
        "for i in range(n):\n",
        "    for j in range(i + 1, n):\n",
        "        Q[i, j] += 2 * A\n",
        "        Q[j, i] += 2 * A\n",
        "\n",
        "# Q is the final QUBO matrix\n",
        "print(\"QUBO matrix Q (shape {}):\\n\".format(Q.shape), np.round(Q, 4))\n"
      ],
      "metadata": {
        "colab": {
          "base_uri": "https://localhost:8080/"
        },
        "id": "FoVsfeLCesIV",
        "outputId": "6ac6d363-f98e-4ae8-e598-935d89cd4b85"
      },
      "execution_count": 3,
      "outputs": [
        {
          "output_type": "stream",
          "name": "stdout",
          "text": [
            "QUBO matrix Q (shape (5, 5)):\n",
            " [[-50.119   20.0484  20.0505  20.0605  20.0624]\n",
            " [ 20.0484 -50.0714  20.0402  20.0471  20.0462]\n",
            " [ 20.0505  20.0402 -50.1087  20.0548  20.0545]\n",
            " [ 20.0605  20.0471  20.0548 -50.0349  20.0557]\n",
            " [ 20.0624  20.0462  20.0545  20.0557 -50.1043]]\n"
          ]
        }
      ]
    },
    {
      "cell_type": "code",
      "source": [
        "# -------------------------\n",
        "# Cell 4: QUBO -> Ising and Hamiltonian\n",
        "# -------------------------\n",
        "def qubo_to_ising(Q):\n",
        "    # Convert QUBO (x in {0,1}) to Ising (z in {-1,1}) form:\n",
        "    # x = (1 - z)/2  =>  x_i x_j = (1 - z_i - z_j + z_i z_j)/4\n",
        "    n = Q.shape[0]\n",
        "    const = 0.0\n",
        "    h = np.zeros(n)      # linear Z coefficients\n",
        "    J = np.zeros((n, n)) # ZZ coefficients\n",
        "\n",
        "    # Compute constant, linear, and quadratic terms\n",
        "    for i in range(n):\n",
        "        for j in range(n):\n",
        "            qij = Q[i, j]\n",
        "            const += qij * 0.25        # from (1/4) * qij\n",
        "    const = const  # already summed\n",
        "\n",
        "    # Linear (h) and quadratic (J)\n",
        "    for i in range(n):\n",
        "        # diagonal contributions: Q[ii] * x_i^2 => x_i = (1-z_i)/2 => contributes (Q_ii/4) - (Q_ii/2) z_i/2?\n",
        "        # Simpler to compute from expansion of x^T Q x\n",
        "        # We'll compute h and J by expanding formula:\n",
        "        # x^T Q x = sum_{i,j} Q_ij * (1 - z_i - z_j + z_i z_j)/4\n",
        "        # Collect z_i and z_i z_j coefficients directly:\n",
        "        pass\n",
        "\n",
        "    # Explicit expansion to avoid algebra mistakes:\n",
        "    # Initialize accumulators\n",
        "    const = 0.0\n",
        "    h = np.zeros(n)\n",
        "    J = np.zeros((n,n))\n",
        "\n",
        "    for i in range(n):\n",
        "        for j in range(n):\n",
        "            qij = Q[i, j]\n",
        "            const += qij * 0.25                     # (1/4) * Q_ij\n",
        "            h[i] += -0.25 * qij                     # from -z_i * Q_ij /4\n",
        "            # note: contribution to h[j] from this pair will be handled when loop reaches j,i\n",
        "            # For the z_i z_j term:\n",
        "    # Now handle z_i z_j (i<j) properly:\n",
        "    for i in range(n):\n",
        "        for j in range(i+1, n):\n",
        "            qij = Q[i, j]\n",
        "            J[i, j] += 0.25 * qij\n",
        "            J[j, i] = J[i, j]\n",
        "            # adjust h because earlier double counted -0.25 * qij for both h[i] and h[j]\n",
        "            # The previous loop already added -0.25*qij to h[i] and -0.25*qji (same) to h[j]\n",
        "            # So no further adjustment needed here.\n",
        "\n",
        "    # Note: diagonal Q_ii terms have been handled in const and h above.\n",
        "    # Return const, h, J\n",
        "    return const, h, J\n",
        "\n",
        "const, h, J = qubo_to_ising(Q)\n",
        "\n",
        "# Build PennyLane Hamiltonian H_cost = const + sum_i h_i Z_i + sum_{i<j} J_ij Z_i Z_j\n",
        "coeffs = []\n",
        "ops = []\n",
        "for i in range(n):\n",
        "    if abs(h[i]) > 1e-12:\n",
        "        coeffs.append(float(h[i]))\n",
        "        ops.append(qml.PauliZ(i))\n",
        "for i in range(n):\n",
        "    for j in range(i+1, n):\n",
        "        if abs(J[i, j]) > 1e-12:\n",
        "            coeffs.append(float(J[i, j]))\n",
        "            ops.append(qml.PauliZ(i) @ qml.PauliZ(j))\n",
        "\n",
        "H_cost = qml.Hamiltonian(coeffs, ops)\n",
        "print(\"Hamiltonian built: {} terms\".format(len(coeffs)))\n"
      ],
      "metadata": {
        "colab": {
          "base_uri": "https://localhost:8080/"
        },
        "id": "RS4xBi2mev-B",
        "outputId": "7df36ed6-0718-4f3e-ea13-96916a2e8976"
      },
      "execution_count": 4,
      "outputs": [
        {
          "output_type": "stream",
          "name": "stdout",
          "text": [
            "Hamiltonian built: 15 terms\n"
          ]
        }
      ]
    },
    {
      "cell_type": "code",
      "source": [
        "# -------------------------\n",
        "# Cell 5: QAOA circuit + optimization (fixed float issue)\n",
        "# -------------------------\n",
        "p = 2   # QAOA depth\n",
        "dev = qml.device(\"default.qubit\", wires=n)\n",
        "\n",
        "@qml.qnode(dev, interface=\"autograd\")\n",
        "def qaoa_expectation(gammas, betas):\n",
        "    # initial |+>^n\n",
        "    for i in range(n):\n",
        "        qml.Hadamard(wires=i)\n",
        "    # p layers\n",
        "    for layer in range(p):\n",
        "        # cost unitary (approximate)\n",
        "        qml.ApproxTimeEvolution(H_cost, gammas[layer], 1)\n",
        "        # mixer\n",
        "        for i in range(n):\n",
        "            qml.RX(2.0 * betas[layer], wires=i)\n",
        "    return qml.expval(H_cost)\n",
        "\n",
        "# Initialize parameters as pennylane numpy arrays (autograd-compatible)\n",
        "rng = np.random.default_rng(123)\n",
        "gammas = pnp.array(rng.uniform(0, 2*np.pi, size=(p,)), requires_grad=True)\n",
        "betas  = pnp.array(rng.uniform(0, 2*np.pi, size=(p,)), requires_grad=True)\n",
        "\n",
        "# Optimizer\n",
        "opt = qml.AdamOptimizer(stepsize=0.1)\n",
        "max_iters = 60\n",
        "\n",
        "print(\"Starting QAOA optimization...\")\n",
        "for it in range(max_iters):\n",
        "    gammas, betas = opt.step(lambda g,b: qaoa_expectation(g,b), gammas, betas)\n",
        "    if (it+1) % 10 == 0 or it == 0:\n",
        "        val = qaoa_expectation(gammas, betas)\n",
        "        print(f\" Iter {it+1:3d}: expectation = {val:.6f}\")\n",
        "print(\"QAOA optimization finished. Final expectation:\", qaoa_expectation(gammas, betas))\n"
      ],
      "metadata": {
        "colab": {
          "base_uri": "https://localhost:8080/"
        },
        "id": "4GpVCIhYe2PP",
        "outputId": "77d94a73-d6df-4ad1-ef5a-88acf2c0dfdc"
      },
      "execution_count": 5,
      "outputs": [
        {
          "output_type": "stream",
          "name": "stdout",
          "text": [
            "Starting QAOA optimization...\n",
            " Iter   1: expectation = 23.404607\n",
            " Iter  10: expectation = -10.843099\n",
            " Iter  20: expectation = -11.856883\n",
            " Iter  30: expectation = -14.108994\n",
            " Iter  40: expectation = -14.120502\n",
            " Iter  50: expectation = -14.501799\n",
            " Iter  60: expectation = -14.571660\n",
            "QAOA optimization finished. Final expectation: -14.57165982346009\n"
          ]
        }
      ]
    },
    {
      "cell_type": "code",
      "source": [
        "# -------------------------\n",
        "# Cell 6: Sample bitstrings from final QAOA state\n",
        "# -------------------------\n",
        "\n",
        "shots = 1000  # number of samples to draw\n",
        "\n",
        "# Create a new device in sampling mode\n",
        "dev_sample = qml.device(\"default.qubit\", wires=n, shots=shots)\n",
        "\n",
        "@qml.qnode(dev_sample)\n",
        "def qaoa_sampling(gammas, betas):\n",
        "    # initial |+>^n\n",
        "    for i in range(n):\n",
        "        qml.Hadamard(wires=i)\n",
        "    # QAOA layers\n",
        "    for layer in range(p):\n",
        "        qml.ApproxTimeEvolution(H_cost, gammas[layer], 1)\n",
        "        for i in range(n):\n",
        "            qml.RX(2.0 * betas[layer], wires=i)\n",
        "    return qml.sample(wires=range(n))\n",
        "\n",
        "# Sample the circuit\n",
        "samples = qaoa_sampling(gammas, betas)\n",
        "samples = np.array(samples)\n",
        "\n",
        "# Convert samples to bitstrings\n",
        "bitstrings = [\"\".join(str(b) for b in sample) for sample in samples]\n",
        "unique, counts = np.unique(bitstrings, return_counts=True)\n",
        "\n",
        "print(\"Top QAOA solutions (most frequent bitstrings):\")\n",
        "for b, c in sorted(zip(unique, counts), key=lambda x: x[1], reverse=True)[:5]:\n",
        "    print(f\"  {b}  ->  freq: {c} ({100*c/shots:.2f}%)\")\n"
      ],
      "metadata": {
        "colab": {
          "base_uri": "https://localhost:8080/"
        },
        "id": "rF3oerxMe50O",
        "outputId": "9543a5d5-d8e1-4479-8061-0012408b0643"
      },
      "execution_count": 8,
      "outputs": [
        {
          "output_type": "stream",
          "name": "stdout",
          "text": [
            "Top QAOA solutions (most frequent bitstrings):\n",
            "  00011  ->  freq: 94 (9.40%)\n",
            "  10001  ->  freq: 76 (7.60%)\n",
            "  01001  ->  freq: 72 (7.20%)\n",
            "  11000  ->  freq: 70 (7.00%)\n",
            "  00110  ->  freq: 69 (6.90%)\n"
          ]
        }
      ]
    },
    {
      "cell_type": "code",
      "source": [
        "# -------------------------\n",
        "# Cell 7: Convert best bitstring to portfolio weights\n",
        "# -------------------------\n",
        "rf = 0.02  # risk-free rate (2%)\n",
        "\n",
        "# Take the most frequent bitstring as the \"optimal\" solution\n",
        "best_bitstring = sorted(zip(unique, counts), key=lambda x: x[1], reverse=True)[0][0]\n",
        "\n",
        "# Determine selected assets\n",
        "selected_assets = [tickers[i] for i, bit in enumerate(best_bitstring) if bit == \"1\"]\n",
        "\n",
        "# Avoid division by zero if no assets are selected\n",
        "if len(selected_assets) == 0:\n",
        "    print(\"Warning: No assets selected by QAOA. Using equal weights fallback.\")\n",
        "    weights_qaoa = np.ones(n) / n\n",
        "else:\n",
        "    weights_qaoa = np.array([1/len(selected_assets) if bit == \"1\" else 0 for bit in best_bitstring])\n",
        "\n",
        "# Compute portfolio metrics for QAOA solution\n",
        "ret_qaoa = np.dot(mu, weights_qaoa)\n",
        "risk_qaoa = np.sqrt(weights_qaoa.T @ Sigma @ weights_qaoa)\n",
        "sharpe_qaoa = (ret_qaoa - rf) / risk_qaoa\n",
        "\n",
        "# Display results\n",
        "print(\"\\nQAOA Selected Portfolio:\")\n",
        "for i, t in enumerate(tickers):\n",
        "    print(f\"  {t}: {weights_qaoa[i]:.2f}\")\n",
        "\n",
        "print(f\"\\nExpected Return (annual): {ret_qaoa:.4f}\")\n",
        "print(f\"Expected Risk (volatility): {risk_qaoa:.4f}\")\n",
        "print(f\"Sharpe Ratio: {sharpe_qaoa:.4f}\")\n"
      ],
      "metadata": {
        "colab": {
          "base_uri": "https://localhost:8080/"
        },
        "id": "cQUJRDQQg8zr",
        "outputId": "a3da0053-0fe7-4f62-a1d3-63b16aa6e222"
      },
      "execution_count": 10,
      "outputs": [
        {
          "output_type": "stream",
          "name": "stdout",
          "text": [
            "\n",
            "QAOA Selected Portfolio:\n",
            "  AAPL: 0.00\n",
            "  MSFT: 0.00\n",
            "  GOOGL: 0.00\n",
            "  AMZN: 0.50\n",
            "  META: 0.50\n",
            "\n",
            "Expected Return (annual): 0.3746\n",
            "Expected Risk (volatility): 0.3366\n",
            "Sharpe Ratio: 1.0536\n"
          ]
        }
      ]
    },
    {
      "cell_type": "code",
      "source": [
        "# -------------------------\n",
        "# Visualization: Efficient Frontier + Tangency + QAOA\n",
        "# -------------------------\n",
        "\n",
        "plt.figure(figsize=(10,6))\n",
        "\n",
        "# Plot Markowitz Efficient Frontier\n",
        "plt.plot(risks, rets, 'b--', label='Efficient Frontier')\n",
        "plt.scatter(risks, rets, c='blue', s=20)\n",
        "\n",
        "# Highlight Markowitz Tangency Portfolio\n",
        "plt.scatter(tangency_risk, tangency_return, c='red', marker='*', s=200, label='Markowitz Tangency')\n",
        "\n",
        "# Highlight QAOA Portfolio\n",
        "plt.scatter(risk_qaoa, ret_qaoa, c='green', marker='o', s=150, label='QAOA Portfolio')\n",
        "\n",
        "# Labels and title\n",
        "plt.xlabel('Volatility (Std Dev)')\n",
        "plt.ylabel('Expected Return')\n",
        "plt.title('Portfolio Optimization: Markowitz vs QAOA')\n",
        "plt.legend()\n",
        "plt.grid(True)\n",
        "plt.show()\n"
      ],
      "metadata": {
        "id": "4rav4r-Kj9zJ",
        "outputId": "50d2ad0d-6344-4d5a-fb1d-4266094299d7",
        "colab": {
          "base_uri": "https://localhost:8080/",
          "height": 564
        }
      },
      "execution_count": 23,
      "outputs": [
        {
          "output_type": "display_data",
          "data": {
            "text/plain": [
              "<Figure size 1000x600 with 1 Axes>"
            ],
            "image/png": "[encoded data removed]"
          },
          "metadata": {}
        }
      ]
    },
    {
      "cell_type": "code",
      "source": [
        "# -------------------------\n",
        "# Bar Chart: Portfolio Weights Comparison\n",
        "# -------------------------\n",
        "\n",
        "import matplotlib.ticker as mtick\n",
        "\n",
        "x = np.arange(len(tickers))  # positions for bars\n",
        "width = 0.35                # width of bars\n",
        "\n",
        "plt.figure(figsize=(10,6))\n",
        "plt.bar(x - width/2, tangency_weights, width, label='Markowitz Tangency', color='blue', alpha=0.7)\n",
        "plt.bar(x + width/2, weights_qaoa, width, label='QAOA Portfolio', color='green', alpha=0.7)\n",
        "\n",
        "# Labels and title\n",
        "plt.xlabel('Assets')\n",
        "plt.ylabel('Portfolio Weight')\n",
        "plt.title('Comparison of Portfolio Weights')\n",
        "plt.xticks(x, tickers)\n",
        "plt.ylim(0, 1)\n",
        "plt.gca().yaxis.set_major_formatter(mtick.PercentFormatter(1.0))\n",
        "plt.legend()\n",
        "plt.grid(axis='y', linestyle='--', alpha=0.7)\n",
        "plt.show()\n"
      ],
      "metadata": {
        "id": "25sPmZQBl1UB",
        "outputId": "5b7320f1-5c50-418c-e35f-96bbd285f848",
        "colab": {
          "base_uri": "https://localhost:8080/",
          "height": 564
        }
      },
      "execution_count": 24,
      "outputs": [
        {
          "output_type": "display_data",
          "data": {
            "text/plain": [
              "<Figure size 1000x600 with 1 Axes>"
            ],
            "image/png": "[encoded data removed]"
          },
          "metadata": {}
        }
      ]
    }
  ]
}